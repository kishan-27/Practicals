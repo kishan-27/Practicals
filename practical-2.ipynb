{
 "cells": [
  {
   "cell_type": "markdown",
   "id": "ec1fc4dd",
   "metadata": {
    "_cell_guid": "b1076dfc-b9ad-4769-8c92-a6c4dae69d19",
    "_uuid": "8f2839f25d086af736a60e9eeb907d3b93b6e0e5",
    "papermill": {
     "duration": 0.007198,
     "end_time": "2023-09-05T17:06:37.171135",
     "exception": false,
     "start_time": "2023-09-05T17:06:37.163937",
     "status": "completed"
    },
    "tags": []
   },
   "source": [
    "## Practical No.2 : Write a NumPy program to implement following operation\n",
    "### • to convert a list of numeric values into a one-dimensional NumPy array"
   ]
  },
  {
   "cell_type": "code",
   "execution_count": 1,
   "id": "359d852a",
   "metadata": {
    "execution": {
     "iopub.execute_input": "2023-09-05T17:06:37.185498Z",
     "iopub.status.busy": "2023-09-05T17:06:37.184545Z",
     "iopub.status.idle": "2023-09-05T17:06:37.201739Z",
     "shell.execute_reply": "2023-09-05T17:06:37.200883Z"
    },
    "papermill": {
     "duration": 0.027465,
     "end_time": "2023-09-05T17:06:37.204502",
     "exception": false,
     "start_time": "2023-09-05T17:06:37.177037",
     "status": "completed"
    },
    "tags": []
   },
   "outputs": [
    {
     "name": "stdout",
     "output_type": "stream",
     "text": [
      "List:  [1, 2, 3, 4, 5, 6, 7, 8, 9]\n",
      "Array:  [1 2 3 4 5 6 7 8 9]\n"
     ]
    }
   ],
   "source": [
    "# Name : Kishan Lashkari\n",
    "# Enrollment : 216270307002\n",
    "\n",
    "import numpy  \n",
    "\n",
    "a = [1, 2, 3, 4, 5, 6, 7, 8, 9]  \n",
    "\n",
    "arr = numpy.array(a) \n",
    "\n",
    "print (\"List: \", a) \n",
    "\n",
    "print (\"Array: \", arr)"
   ]
  },
  {
   "cell_type": "markdown",
   "id": "3c1dd84a",
   "metadata": {
    "papermill": {
     "duration": 0.00533,
     "end_time": "2023-09-05T17:06:37.215586",
     "exception": false,
     "start_time": "2023-09-05T17:06:37.210256",
     "status": "completed"
    },
    "tags": []
   },
   "source": [
    "### • to create a 3x3 matrix with values ranging from 2 to 10"
   ]
  },
  {
   "cell_type": "code",
   "execution_count": 2,
   "id": "1bd3614d",
   "metadata": {
    "execution": {
     "iopub.execute_input": "2023-09-05T17:06:37.229098Z",
     "iopub.status.busy": "2023-09-05T17:06:37.228470Z",
     "iopub.status.idle": "2023-09-05T17:06:37.235106Z",
     "shell.execute_reply": "2023-09-05T17:06:37.233533Z"
    },
    "papermill": {
     "duration": 0.016407,
     "end_time": "2023-09-05T17:06:37.237651",
     "exception": false,
     "start_time": "2023-09-05T17:06:37.221244",
     "status": "completed"
    },
    "tags": []
   },
   "outputs": [
    {
     "name": "stdout",
     "output_type": "stream",
     "text": [
      "[[ 2  3  4]\n",
      " [ 5  6  7]\n",
      " [ 8  9 10]]\n"
     ]
    }
   ],
   "source": [
    "# Name : Kishan Lashkari\n",
    "# Enrollment : 216270307002\n",
    "\n",
    "import numpy as np\n",
    "\n",
    "arr = np.array([2, 3, 4, 5, 6, 7, 8, 9, 10])\n",
    "\n",
    "newarr = arr.reshape(3, 3)\n",
    "\n",
    "print(newarr)"
   ]
  },
  {
   "cell_type": "markdown",
   "id": "c842172a",
   "metadata": {
    "papermill": {
     "duration": 0.005635,
     "end_time": "2023-09-05T17:06:37.249301",
     "exception": false,
     "start_time": "2023-09-05T17:06:37.243666",
     "status": "completed"
    },
    "tags": []
   },
   "source": [
    "### • to append values at the end of an array"
   ]
  },
  {
   "cell_type": "code",
   "execution_count": 3,
   "id": "08004a83",
   "metadata": {
    "execution": {
     "iopub.execute_input": "2023-09-05T17:06:37.262846Z",
     "iopub.status.busy": "2023-09-05T17:06:37.262403Z",
     "iopub.status.idle": "2023-09-05T17:06:37.269788Z",
     "shell.execute_reply": "2023-09-05T17:06:37.268548Z"
    },
    "papermill": {
     "duration": 0.017168,
     "end_time": "2023-09-05T17:06:37.272299",
     "exception": false,
     "start_time": "2023-09-05T17:06:37.255131",
     "status": "completed"
    },
    "tags": []
   },
   "outputs": [
    {
     "name": "stdout",
     "output_type": "stream",
     "text": [
      "Original Array :  [10 15 20 25]\n",
      "Array after appending :  [10 15 20 25 30]\n"
     ]
    }
   ],
   "source": [
    "# Name : Kishan Lashkari\n",
    "# Enrollment : 216270307002\n",
    "\n",
    "import numpy as np\n",
    "\n",
    "arr = np.array([10, 15, 20, 25])\n",
    "print('Original Array : ', arr)\n",
    "\n",
    "arr = np.append(arr, [30])\n",
    "print('Array after appending : ', arr)"
   ]
  },
  {
   "cell_type": "markdown",
   "id": "57fca05f",
   "metadata": {
    "papermill": {
     "duration": 0.0054,
     "end_time": "2023-09-05T17:06:37.283663",
     "exception": false,
     "start_time": "2023-09-05T17:06:37.278263",
     "status": "completed"
    },
    "tags": []
   },
   "source": [
    "### • to create another shape from an array without changing its data (3 * 2 to 2 * 3)"
   ]
  },
  {
   "cell_type": "code",
   "execution_count": 4,
   "id": "38a96192",
   "metadata": {
    "execution": {
     "iopub.execute_input": "2023-09-05T17:06:37.297168Z",
     "iopub.status.busy": "2023-09-05T17:06:37.296732Z",
     "iopub.status.idle": "2023-09-05T17:06:37.304707Z",
     "shell.execute_reply": "2023-09-05T17:06:37.303588Z"
    },
    "papermill": {
     "duration": 0.018939,
     "end_time": "2023-09-05T17:06:37.308259",
     "exception": false,
     "start_time": "2023-09-05T17:06:37.289320",
     "status": "completed"
    },
    "tags": []
   },
   "outputs": [
    {
     "name": "stdout",
     "output_type": "stream",
     "text": [
      "Reshape 3x2 :\n",
      "[[10 20]\n",
      " [30 40]\n",
      " [50 60]]\n",
      "Reshape 2x3 :\n",
      "[[10 20 30]\n",
      " [40 50 60]]\n"
     ]
    }
   ],
   "source": [
    "# Name : Kishan Lashkari\n",
    "# Enrollment : 216270307002\n",
    "\n",
    "import numpy as np\n",
    "\n",
    "x = np.array([10, 20, 30, 40, 50, 60])\n",
    "y = np.reshape(x, (3, 2))\n",
    "\n",
    "print(\"Reshape 3x2 :\")\n",
    "print(y)\n",
    "\n",
    "z = np.reshape(x, (2, 3))\n",
    "print(\"Reshape 2x3 :\")\n",
    "print(z)"
   ]
  },
  {
   "cell_type": "code",
   "execution_count": null,
   "id": "d7da59e4",
   "metadata": {
    "papermill": {
     "duration": 0.005476,
     "end_time": "2023-09-05T17:06:37.320195",
     "exception": false,
     "start_time": "2023-09-05T17:06:37.314719",
     "status": "completed"
    },
    "tags": []
   },
   "outputs": [],
   "source": []
  }
 ],
 "kernelspec": {
  "display_name": "Python 3",
  "language": "python",
  "name": "python3"
 },
 "language_info": {
  "codemirror_mode": {
   "name": "ipython",
   "version": 3
  },
  "file_extension": ".py",
  "mimetype": "text/x-python",
  "name": "python",
  "nbconvert_exporter": "python",
  "pygments_lexer": "ipython3",
  "version": "3.6.4"
 },
 "metadata": {
  "kernelspec": {
   "display_name": "Python 3",
   "language": "python",
   "name": "python3"
  },
  "language_info": {
   "codemirror_mode": {
    "name": "ipython",
    "version": 3
   },
   "file_extension": ".py",
   "mimetype": "text/x-python",
   "name": "python",
   "nbconvert_exporter": "python",
   "pygments_lexer": "ipython3",
   "version": "3.10.12"
  },
  "papermill": {
   "default_parameters": {},
   "duration": 4.53678,
   "end_time": "2023-09-05T17:06:37.748044",
   "environment_variables": {},
   "exception": null,
   "input_path": "__notebook__.ipynb",
   "output_path": "__notebook__.ipynb",
   "parameters": {},
   "start_time": "2023-09-05T17:06:33.211264",
   "version": "2.4.0"
  }
 },
 "nbformat": 4,
 "nbformat_minor": 5
}
