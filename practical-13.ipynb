{
 "cells": [
  {
   "cell_type": "markdown",
   "id": "34b54613",
   "metadata": {
    "_cell_guid": "b1076dfc-b9ad-4769-8c92-a6c4dae69d19",
    "_uuid": "8f2839f25d086af736a60e9eeb907d3b93b6e0e5",
    "papermill": {
     "duration": 0.002911,
     "end_time": "2023-11-05T20:13:25.761337",
     "exception": false,
     "start_time": "2023-11-05T20:13:25.758426",
     "status": "completed"
    },
    "tags": []
   },
   "source": [
    "## Practical No.13: Write a Python program to implement K-Nearest Neighbour supervised machine learning algorithm for given dataset."
   ]
  },
  {
   "cell_type": "code",
   "execution_count": 1,
   "id": "73e43746",
   "metadata": {
    "execution": {
     "iopub.execute_input": "2023-11-05T20:13:25.769248Z",
     "iopub.status.busy": "2023-11-05T20:13:25.768267Z",
     "iopub.status.idle": "2023-11-05T20:13:27.935337Z",
     "shell.execute_reply": "2023-11-05T20:13:27.934042Z"
    },
    "papermill": {
     "duration": 2.177363,
     "end_time": "2023-11-05T20:13:27.941165",
     "exception": false,
     "start_time": "2023-11-05T20:13:25.763802",
     "status": "completed"
    },
    "tags": []
   },
   "outputs": [
    {
     "name": "stdout",
     "output_type": "stream",
     "text": [
      "Accuracy of the K-NN classifier with k=3: 100.00%\n"
     ]
    }
   ],
   "source": [
    "# Name : Kishan B. Lashkari\n",
    "# Enrollment : 216270307002\n",
    "\n",
    "from sklearn import datasets\n",
    "from sklearn.model_selection import train_test_split\n",
    "from sklearn.neighbors import KNeighborsClassifier\n",
    "from sklearn.metrics import accuracy_score\n",
    "\n",
    "iris = datasets.load_iris()\n",
    "X = iris.data\n",
    "y = iris.target \n",
    "\n",
    "X_train, X_test, y_train, y_test = train_test_split(X, y, test_size=0.2, random_state=42)\n",
    "\n",
    "k = 3 \n",
    "knn_classifier = KNeighborsClassifier(n_neighbors=k)\n",
    "knn_classifier.fit(X_train, y_train)\n",
    "\n",
    "y_pred = knn_classifier.predict(X_test)\n",
    "\n",
    "accuracy = accuracy_score(y_test, y_pred)\n",
    "print(f\"Accuracy of the K-NN classifier with k={k}: {accuracy * 100:.2f}%\")"
   ]
  },
  {
   "cell_type": "code",
   "execution_count": null,
   "id": "f2f48a9d",
   "metadata": {
    "papermill": {
     "duration": 0.001862,
     "end_time": "2023-11-05T20:13:27.945397",
     "exception": false,
     "start_time": "2023-11-05T20:13:27.943535",
     "status": "completed"
    },
    "tags": []
   },
   "outputs": [],
   "source": []
  }
 ],
 "metadata": {
  "kernelspec": {
   "display_name": "Python 3",
   "language": "python",
   "name": "python3"
  },
  "language_info": {
   "codemirror_mode": {
    "name": "ipython",
    "version": 3
   },
   "file_extension": ".py",
   "mimetype": "text/x-python",
   "name": "python",
   "nbconvert_exporter": "python",
   "pygments_lexer": "ipython3",
   "version": "3.10.12"
  },
  "papermill": {
   "default_parameters": {},
   "duration": 8.318611,
   "end_time": "2023-11-05T20:13:28.671717",
   "environment_variables": {},
   "exception": null,
   "input_path": "__notebook__.ipynb",
   "output_path": "__notebook__.ipynb",
   "parameters": {},
   "start_time": "2023-11-05T20:13:20.353106",
   "version": "2.4.0"
  }
 },
 "nbformat": 4,
 "nbformat_minor": 5
}
