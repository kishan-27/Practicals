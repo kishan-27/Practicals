{
 "cells": [
  {
   "cell_type": "markdown",
   "id": "b8dca0f2",
   "metadata": {
    "_cell_guid": "b1076dfc-b9ad-4769-8c92-a6c4dae69d19",
    "_uuid": "8f2839f25d086af736a60e9eeb907d3b93b6e0e5",
    "papermill": {
     "duration": 0.005484,
     "end_time": "2023-09-11T17:15:05.298502",
     "exception": false,
     "start_time": "2023-09-11T17:15:05.293018",
     "status": "completed"
    },
    "tags": []
   },
   "source": [
    "## Practical No.3 : Write a NumPy program to implement following operation\n",
    "### • to split an array of 14 elements into 3 arrays, each with 2, 4, and 8 elements in the original order"
   ]
  },
  {
   "cell_type": "code",
   "execution_count": 1,
   "id": "3b4dde35",
   "metadata": {
    "execution": {
     "iopub.execute_input": "2023-09-11T17:15:05.311152Z",
     "iopub.status.busy": "2023-09-11T17:15:05.310535Z",
     "iopub.status.idle": "2023-09-11T17:15:05.327653Z",
     "shell.execute_reply": "2023-09-11T17:15:05.326417Z"
    },
    "papermill": {
     "duration": 0.027042,
     "end_time": "2023-09-11T17:15:05.330387",
     "exception": false,
     "start_time": "2023-09-11T17:15:05.303345",
     "status": "completed"
    },
    "tags": []
   },
   "outputs": [
    {
     "name": "stdout",
     "output_type": "stream",
     "text": [
      "Original array :  [ 1  2  3  4  5  6  7  8  9 10 11 12 13 14]\n",
      "After Splitting Array : \n",
      "[array([1, 2]), array([3, 4, 5, 6]), array([ 7,  8,  9, 10, 11, 12, 13, 14])]\n"
     ]
    }
   ],
   "source": [
    "# Name : Kishan B. Lashkari \n",
    "# Enrollment : 216270307002\n",
    "\n",
    "import numpy as np\n",
    "\n",
    "a = np.arange(1, 15)\n",
    "print(\"Original array : \",a)\n",
    "\n",
    "print(\"After Splitting Array : \")\n",
    "\n",
    "print(np.split(a, [2, 6]))"
   ]
  },
  {
   "cell_type": "markdown",
   "id": "33456a00",
   "metadata": {
    "papermill": {
     "duration": 0.004127,
     "end_time": "2023-09-11T17:15:05.338885",
     "exception": false,
     "start_time": "2023-09-11T17:15:05.334758",
     "status": "completed"
    },
    "tags": []
   },
   "source": [
    "### • to stack arrays horizontally (column wise)"
   ]
  },
  {
   "cell_type": "code",
   "execution_count": 2,
   "id": "398ec355",
   "metadata": {
    "execution": {
     "iopub.execute_input": "2023-09-11T17:15:05.349939Z",
     "iopub.status.busy": "2023-09-11T17:15:05.349124Z",
     "iopub.status.idle": "2023-09-11T17:15:05.357499Z",
     "shell.execute_reply": "2023-09-11T17:15:05.356345Z"
    },
    "papermill": {
     "duration": 0.01674,
     "end_time": "2023-09-11T17:15:05.359935",
     "exception": false,
     "start_time": "2023-09-11T17:15:05.343195",
     "status": "completed"
    },
    "tags": []
   },
   "outputs": [
    {
     "name": "stdout",
     "output_type": "stream",
     "text": [
      "1st Array :  [1 2 3]\n",
      "2nd Array :  [4 5 6]\n",
      "Horizontally Stacked Array :  [1 2 3 4 5 6]\n"
     ]
    }
   ],
   "source": [
    "# Name : Kishan B. Lashkari \n",
    "# Enrollment : 216270307002\n",
    "\n",
    "import numpy as np\n",
    "\n",
    "i1 = np.array([ 1, 2, 3] )\n",
    "print (\"1st Array : \", i1)\n",
    "\n",
    "i2 = np.array([ 4, 5, 6] )\n",
    "print (\"2nd Array : \", i2)\n",
    "\n",
    "ans = np.hstack((i1, i2))\n",
    "print (\"Horizontally Stacked Array : \", ans)"
   ]
  },
  {
   "cell_type": "code",
   "execution_count": null,
   "id": "0de0ab1c",
   "metadata": {
    "papermill": {
     "duration": 0.004125,
     "end_time": "2023-09-11T17:15:05.368500",
     "exception": false,
     "start_time": "2023-09-11T17:15:05.364375",
     "status": "completed"
    },
    "tags": []
   },
   "outputs": [],
   "source": []
  }
 ],
 "kernelspec": {
  "display_name": "Python 3",
  "language": "python",
  "name": "python3"
 },
 "language_info": {
  "codemirror_mode": {
   "name": "ipython",
   "version": 3
  },
  "file_extension": ".py",
  "mimetype": "text/x-python",
  "name": "python",
  "nbconvert_exporter": "python",
  "pygments_lexer": "ipython3",
  "version": "3.6.4"
 },
 "metadata": {
  "kernelspec": {
   "display_name": "Python 3",
   "language": "python",
   "name": "python3"
  },
  "language_info": {
   "codemirror_mode": {
    "name": "ipython",
    "version": 3
   },
   "file_extension": ".py",
   "mimetype": "text/x-python",
   "name": "python",
   "nbconvert_exporter": "python",
   "pygments_lexer": "ipython3",
   "version": "3.10.12"
  },
  "papermill": {
   "default_parameters": {},
   "duration": 5.453729,
   "end_time": "2023-09-11T17:15:05.793592",
   "environment_variables": {},
   "exception": null,
   "input_path": "__notebook__.ipynb",
   "output_path": "__notebook__.ipynb",
   "parameters": {},
   "start_time": "2023-09-11T17:15:00.339863",
   "version": "2.4.0"
  }
 },
 "nbformat": 4,
 "nbformat_minor": 5
}
